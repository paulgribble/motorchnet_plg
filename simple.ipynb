{
 "cells": [
  {
   "cell_type": "code",
   "execution_count": null,
   "metadata": {
    "collapsed": false,
    "execution": {
     "iopub.execute_input": "2023-11-21T02:35:20.133166Z",
     "iopub.status.busy": "2023-11-21T02:35:20.132638Z",
     "iopub.status.idle": "2023-11-21T02:35:20.768860Z",
     "shell.execute_reply": "2023-11-21T02:35:20.768566Z"
    },
    "pycharm": {
     "name": "#%%\n"
    }
   },
   "outputs": [],
   "source": [
    "import os\n",
    "import time\n",
    "import sys\n",
    "import json\n",
    "import numpy as np\n",
    "import torch as th\n",
    "import matplotlib.pyplot as plt\n",
    "import motornet as mn\n",
    "from simple_policy import Policy\n",
    "from simple_task import CentreOutFF\n",
    "from simple_utils import *\n",
    "from tqdm import tqdm\n",
    "import pickle\n",
    "\n",
    "print('All packages imported.')\n",
    "print('pytorch version: ' + th.__version__)\n",
    "print('numpy version: ' + np.__version__)\n",
    "print('motornet version: ' + mn.__version__)"
   ]
  },
  {
   "cell_type": "code",
   "execution_count": null,
   "metadata": {
    "execution": {
     "iopub.execute_input": "2023-11-21T02:35:20.784142Z",
     "iopub.status.busy": "2023-11-21T02:35:20.784021Z",
     "iopub.status.idle": "2023-11-21T02:35:21.102165Z",
     "shell.execute_reply": "2023-11-21T02:35:21.101847Z"
    }
   },
   "outputs": [],
   "source": [
    "device = th.device(\"cpu\")\n",
    "\n",
    "effector = mn.effector.RigidTendonArm26(muscle=mn.muscle.RigidTendonHillMuscle())\n",
    "env = CentreOutFF(effector=effector, max_ep_duration=1.)\n",
    "\n",
    "policy = Policy(env.observation_space.shape[0], 128, env.n_muscles, device=device)\n",
    "optimizer = th.optim.Adam(policy.parameters(), lr=10**-3)"
   ]
  },
  {
   "cell_type": "code",
   "execution_count": null,
   "metadata": {
    "collapsed": false,
    "execution": {
     "iopub.execute_input": "2023-11-21T02:35:21.103950Z",
     "iopub.status.busy": "2023-11-21T02:35:21.103831Z",
     "iopub.status.idle": "2023-11-21T06:32:21.626488Z",
     "shell.execute_reply": "2023-11-21T06:32:21.625556Z"
    },
    "pycharm": {
     "name": "#%%\n"
    }
   },
   "outputs": [],
   "source": [
    "batch_size =    32\n",
    "n_batch    = 10000\n",
    "interval   =   100\n",
    "model_name = \"simple\"\n",
    "\n",
    "losses = {\n",
    "    'overall': [],\n",
    "    'position': [],\n",
    "    'angle': [],\n",
    "    'lateral': [],\n",
    "    'muscle': [],\n",
    "    'hidden': [],\n",
    "    'jerk' : []}\n",
    "\n",
    "for batch in tqdm(range(n_batch),\n",
    "                  desc=f\"Training {n_batch} batches of {batch_size}\",\n",
    "                  unit=\"batch\"):\n",
    "\n",
    "    data = run_episode(env, policy, batch_size, catch_trial_perc=50, condition='train', ff_coefficient=0.0, detach=False)\n",
    "    loss, position_loss, muscle_loss, hidden_loss, angle_loss, lateral_loss, jerk_loss, diff_loss, m_diff_loss = cal_loss(data, env.muscle.max_iso_force, env.dt, policy, test=False)\n",
    "\n",
    "    # backward pass & update weights\n",
    "    optimizer.zero_grad() \n",
    "    loss.backward()\n",
    "    th.nn.utils.clip_grad_norm_(policy.parameters(), max_norm=1.)  # important!\n",
    "    optimizer.step()\n",
    "\n",
    "    # save weights/config/losses\n",
    "    if (batch % interval == 0) and (batch != 0):\n",
    "        save_model(env, policy, losses, model_name, quiet=True)\n",
    "        with open('simple_data.pkl', 'wb') as f:\n",
    "            pickle.dump(data, f)\n",
    "        # with open('simple_data.pkl', 'rb') as f:\n",
    "        #     data = pickle.load(f)\n",
    "        with open(model_name+\"_losses.txt\", \"a\") as f:\n",
    "            print(f\"loss:{th.mean(loss):0.5f}, position_loss:{th.mean(position_loss)*1e2:0.5f}, hidden_loss:{th.mean(hidden_loss)*1e-3:0.5f}, jerk_loss:{th.mean(jerk_loss)*1e-3:0.5f}, diff_loss:{th.mean(diff_loss)*1e-0:0.5f}, m_diff_loss:{th.mean(m_diff_loss)*1e-2:0.5f}, \", file=f)\n",
    "        data = test(model_name + \"_cfg.json\", model_name + \"_weights\")\n",
    "        fig, ax = plot_simulations(xy=data['xy'], target_xy=data['tg'], figsize=(8,6))\n",
    "        fig.savefig(model_name+\"fig1.png\")\n",
    "        plt.close(fig)\n",
    "        fig, ax = plot_activation(data['all_hidden'], data['all_muscle'])\n",
    "        fig.savefig(model_name+\"fig2.png\")\n",
    "        plt.close(fig)\n",
    "        fig, ax = plot_kinematics(all_xy=data[\"xy\"], all_tg=data[\"tg\"], all_vel=data[\"vel\"])\n",
    "        fig.savefig(model_name+\"fig3.png\")\n",
    "        plt.close(fig)\n",
    "\n",
    "        # TEST\n",
    "        # Run episode\n",
    "        # data = run_episode(env,policy,8,0,'test',ff_coefficient=0.0,detach=True)\n",
    "        # calculate losses\n",
    "        # _, position_loss, _, _, angle_loss, lateral_loss = cal_loss(data, env.muscle.max_iso_force, env.dt, policy, test=True)\n",
    "\n",
    "    # Update loss values in the dictionary\n",
    "    losses['overall'].append(loss.item())\n",
    "    losses['position'].append(position_loss.item())\n",
    "    losses['angle'].append(angle_loss.item())\n",
    "    losses['lateral'].append(lateral_loss.item())\n",
    "    losses['muscle'].append(muscle_loss.item())\n",
    "    losses['hidden'].append(hidden_loss.item())\n",
    "    losses['jerk'].append(jerk_loss.item())\n"
   ]
  },
  {
   "cell_type": "code",
   "execution_count": null,
   "metadata": {
    "execution": {
     "iopub.execute_input": "2023-11-21T06:32:21.630095Z",
     "iopub.status.busy": "2023-11-21T06:32:21.629936Z",
     "iopub.status.idle": "2023-11-21T06:32:21.832239Z",
     "shell.execute_reply": "2023-11-21T06:32:21.831987Z"
    }
   },
   "outputs": [],
   "source": [
    "save_model(env, policy, losses, model_name)"
   ]
  },
  {
   "cell_type": "code",
   "execution_count": null,
   "metadata": {},
   "outputs": [],
   "source": [
    "# PLOT LOSS FUNCTION(s)\n",
    "\n",
    "log = json.load(open(model_name + \"_log.json\",'r'))\n",
    "print(log[\"losses\"].keys())\n",
    "w=50\n",
    "for loss in [\"overall\",\"position\",\"muscle\",\"hidden\",\"jerk\"]:\n",
    "    fig,ax = plot_training_log(log=log[\"losses\"],loss_type=loss, w=w)\n",
    "    ax.set_title(f\"{loss} (w={w})\")"
   ]
  },
  {
   "cell_type": "code",
   "execution_count": null,
   "metadata": {},
   "outputs": [],
   "source": [
    "# TEST NETWORK ON CENTRE-OUT\n",
    "\n",
    "data = test(model_name + \"_cfg.json\", model_name + \"_weights\")\n",
    "fig, ax = plot_simulations(xy=data['xy'], target_xy=data['tg'], figsize=(8,6))\n",
    "fig, ax = plot_activation(data['all_hidden'], data['all_muscle'])\n",
    "fig, ax = plot_kinematics(all_xy=data[\"xy\"], all_tg=data[\"tg\"], all_vel=data[\"vel\"])"
   ]
  },
  {
   "cell_type": "code",
   "execution_count": null,
   "metadata": {},
   "outputs": [],
   "source": []
  }
 ],
 "metadata": {
  "kernelspec": {
   "display_name": "Python 3",
   "language": "python",
   "name": "python3"
  },
  "language_info": {
   "codemirror_mode": {
    "name": "ipython",
    "version": 3
   },
   "file_extension": ".py",
   "mimetype": "text/x-python",
   "name": "python",
   "nbconvert_exporter": "python",
   "pygments_lexer": "ipython3",
   "version": "3.10.13"
  }
 },
 "nbformat": 4,
 "nbformat_minor": 0
}
