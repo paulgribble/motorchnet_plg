{
 "cells": [
  {
   "cell_type": "code",
   "execution_count": 1,
   "metadata": {
    "collapsed": false,
    "execution": {
     "iopub.execute_input": "2023-11-22T00:21:47.590227Z",
     "iopub.status.busy": "2023-11-22T00:21:47.589850Z",
     "iopub.status.idle": "2023-11-22T00:21:48.296516Z",
     "shell.execute_reply": "2023-11-22T00:21:48.296247Z"
    },
    "pycharm": {
     "name": "#%%\n"
    }
   },
   "outputs": [
    {
     "name": "stdout",
     "output_type": "stream",
     "text": [
      "All packages imported.\n",
      "pytorch version: 2.1.1\n",
      "numpy version: 1.26.2\n",
      "motornet version: 0.2.0\n"
     ]
    }
   ],
   "source": [
    "import os\n",
    "import time\n",
    "import sys\n",
    "import json\n",
    "import numpy as np\n",
    "import torch as th\n",
    "import matplotlib.pyplot as plt\n",
    "import motornet as mn\n",
    "from simple_policy import Policy\n",
    "from simple_task import CentreOutFF\n",
    "from simple_utils import *\n",
    "from tqdm import tqdm\n",
    "import pickle\n",
    "\n",
    "print('All packages imported.')\n",
    "print('pytorch version: ' + th.__version__)\n",
    "print('numpy version: ' + np.__version__)\n",
    "print('motornet version: ' + mn.__version__)"
   ]
  },
  {
   "cell_type": "code",
   "execution_count": 2,
   "metadata": {
    "execution": {
     "iopub.execute_input": "2023-11-22T00:21:48.313606Z",
     "iopub.status.busy": "2023-11-22T00:21:48.313457Z",
     "iopub.status.idle": "2023-11-22T00:21:48.680533Z",
     "shell.execute_reply": "2023-11-22T00:21:48.680104Z"
    }
   },
   "outputs": [],
   "source": [
    "device = th.device('cpu')\n",
    "\n",
    "effector = mn.effector.RigidTendonArm26(muscle=mn.muscle.RigidTendonHillMuscle())\n",
    "env = CentreOutFF(effector=effector, max_ep_duration=1.)\n",
    "\n",
    "policy = Policy(env.observation_space.shape[0], 128, env.n_muscles, device=device)\n",
    "optimizer = th.optim.Adam(policy.parameters(), lr=10**-3)"
   ]
  },
  {
   "cell_type": "code",
   "execution_count": 3,
   "metadata": {},
   "outputs": [],
   "source": [
    "model_name = \"simple\"\n",
    "if (not os.path.exists(model_name)):\n",
    "    os.mkdir(model_name)"
   ]
  },
  {
   "cell_type": "code",
   "execution_count": 4,
   "metadata": {
    "collapsed": false,
    "execution": {
     "iopub.execute_input": "2023-11-22T00:21:48.682579Z",
     "iopub.status.busy": "2023-11-22T00:21:48.682353Z",
     "iopub.status.idle": "2023-11-22T02:16:19.966875Z",
     "shell.execute_reply": "2023-11-22T02:16:19.965933Z"
    },
    "pycharm": {
     "name": "#%%\n"
    }
   },
   "outputs": [
    {
     "name": "stderr",
     "output_type": "stream",
     "text": [
      "Training 1000 batches of 64:   2%|▏         | 16/1000 [00:06<06:47,  2.42batch/s]\n"
     ]
    },
    {
     "ename": "KeyboardInterrupt",
     "evalue": "",
     "output_type": "error",
     "traceback": [
      "\u001b[0;31m---------------------------------------------------------------------------\u001b[0m",
      "\u001b[0;31mKeyboardInterrupt\u001b[0m                         Traceback (most recent call last)",
      "Cell \u001b[0;32mIn[4], line 24\u001b[0m\n\u001b[1;32m     22\u001b[0m \u001b[38;5;66;03m# backward pass & update weights\u001b[39;00m\n\u001b[1;32m     23\u001b[0m optimizer\u001b[38;5;241m.\u001b[39mzero_grad() \n\u001b[0;32m---> 24\u001b[0m \u001b[43mloss\u001b[49m\u001b[38;5;241;43m.\u001b[39;49m\u001b[43mbackward\u001b[49m\u001b[43m(\u001b[49m\u001b[43m)\u001b[49m\n\u001b[1;32m     25\u001b[0m th\u001b[38;5;241m.\u001b[39mnn\u001b[38;5;241m.\u001b[39mutils\u001b[38;5;241m.\u001b[39mclip_grad_norm_(policy\u001b[38;5;241m.\u001b[39mparameters(), max_norm\u001b[38;5;241m=\u001b[39m\u001b[38;5;241m1.\u001b[39m)  \u001b[38;5;66;03m# important!\u001b[39;00m\n\u001b[1;32m     26\u001b[0m optimizer\u001b[38;5;241m.\u001b[39mstep()\n",
      "File \u001b[0;32m~/venvs/motornet/lib/python3.11/site-packages/torch/_tensor.py:492\u001b[0m, in \u001b[0;36mTensor.backward\u001b[0;34m(self, gradient, retain_graph, create_graph, inputs)\u001b[0m\n\u001b[1;32m    482\u001b[0m \u001b[38;5;28;01mif\u001b[39;00m has_torch_function_unary(\u001b[38;5;28mself\u001b[39m):\n\u001b[1;32m    483\u001b[0m     \u001b[38;5;28;01mreturn\u001b[39;00m handle_torch_function(\n\u001b[1;32m    484\u001b[0m         Tensor\u001b[38;5;241m.\u001b[39mbackward,\n\u001b[1;32m    485\u001b[0m         (\u001b[38;5;28mself\u001b[39m,),\n\u001b[0;32m   (...)\u001b[0m\n\u001b[1;32m    490\u001b[0m         inputs\u001b[38;5;241m=\u001b[39minputs,\n\u001b[1;32m    491\u001b[0m     )\n\u001b[0;32m--> 492\u001b[0m \u001b[43mtorch\u001b[49m\u001b[38;5;241;43m.\u001b[39;49m\u001b[43mautograd\u001b[49m\u001b[38;5;241;43m.\u001b[39;49m\u001b[43mbackward\u001b[49m\u001b[43m(\u001b[49m\n\u001b[1;32m    493\u001b[0m \u001b[43m    \u001b[49m\u001b[38;5;28;43mself\u001b[39;49m\u001b[43m,\u001b[49m\u001b[43m \u001b[49m\u001b[43mgradient\u001b[49m\u001b[43m,\u001b[49m\u001b[43m \u001b[49m\u001b[43mretain_graph\u001b[49m\u001b[43m,\u001b[49m\u001b[43m \u001b[49m\u001b[43mcreate_graph\u001b[49m\u001b[43m,\u001b[49m\u001b[43m \u001b[49m\u001b[43minputs\u001b[49m\u001b[38;5;241;43m=\u001b[39;49m\u001b[43minputs\u001b[49m\n\u001b[1;32m    494\u001b[0m \u001b[43m\u001b[49m\u001b[43m)\u001b[49m\n",
      "File \u001b[0;32m~/venvs/motornet/lib/python3.11/site-packages/torch/autograd/__init__.py:251\u001b[0m, in \u001b[0;36mbackward\u001b[0;34m(tensors, grad_tensors, retain_graph, create_graph, grad_variables, inputs)\u001b[0m\n\u001b[1;32m    246\u001b[0m     retain_graph \u001b[38;5;241m=\u001b[39m create_graph\n\u001b[1;32m    248\u001b[0m \u001b[38;5;66;03m# The reason we repeat the same comment below is that\u001b[39;00m\n\u001b[1;32m    249\u001b[0m \u001b[38;5;66;03m# some Python versions print out the first line of a multi-line function\u001b[39;00m\n\u001b[1;32m    250\u001b[0m \u001b[38;5;66;03m# calls in the traceback and some print out the last line\u001b[39;00m\n\u001b[0;32m--> 251\u001b[0m \u001b[43mVariable\u001b[49m\u001b[38;5;241;43m.\u001b[39;49m\u001b[43m_execution_engine\u001b[49m\u001b[38;5;241;43m.\u001b[39;49m\u001b[43mrun_backward\u001b[49m\u001b[43m(\u001b[49m\u001b[43m  \u001b[49m\u001b[38;5;66;43;03m# Calls into the C++ engine to run the backward pass\u001b[39;49;00m\n\u001b[1;32m    252\u001b[0m \u001b[43m    \u001b[49m\u001b[43mtensors\u001b[49m\u001b[43m,\u001b[49m\n\u001b[1;32m    253\u001b[0m \u001b[43m    \u001b[49m\u001b[43mgrad_tensors_\u001b[49m\u001b[43m,\u001b[49m\n\u001b[1;32m    254\u001b[0m \u001b[43m    \u001b[49m\u001b[43mretain_graph\u001b[49m\u001b[43m,\u001b[49m\n\u001b[1;32m    255\u001b[0m \u001b[43m    \u001b[49m\u001b[43mcreate_graph\u001b[49m\u001b[43m,\u001b[49m\n\u001b[1;32m    256\u001b[0m \u001b[43m    \u001b[49m\u001b[43minputs\u001b[49m\u001b[43m,\u001b[49m\n\u001b[1;32m    257\u001b[0m \u001b[43m    \u001b[49m\u001b[43mallow_unreachable\u001b[49m\u001b[38;5;241;43m=\u001b[39;49m\u001b[38;5;28;43;01mTrue\u001b[39;49;00m\u001b[43m,\u001b[49m\n\u001b[1;32m    258\u001b[0m \u001b[43m    \u001b[49m\u001b[43maccumulate_grad\u001b[49m\u001b[38;5;241;43m=\u001b[39;49m\u001b[38;5;28;43;01mTrue\u001b[39;49;00m\u001b[43m,\u001b[49m\n\u001b[1;32m    259\u001b[0m \u001b[43m\u001b[49m\u001b[43m)\u001b[49m\n",
      "\u001b[0;31mKeyboardInterrupt\u001b[0m: "
     ]
    }
   ],
   "source": [
    "batch_size =    64\n",
    "n_batch    =  1000\n",
    "interval   =   100\n",
    "model_name = \"simple\"\n",
    "\n",
    "losses = {\n",
    "    'overall': [],\n",
    "    'position': [],\n",
    "    'muscle': [],\n",
    "    'muscle_derivative': [],\n",
    "    'hidden': [],\n",
    "    'hidden_derivative': [],\n",
    "    'jerk' : []}\n",
    "\n",
    "for batch in tqdm(range(n_batch),\n",
    "                desc=f\"Training {n_batch} batches of {batch_size}\",\n",
    "                unit=\"batch\"):\n",
    "\n",
    "    data = run_episode(env, policy, batch_size, catch_trial_perc=50, condition='train', ff_coefficient=0.0, detach=False)\n",
    "    loss, losses_weighted = cal_loss(data)\n",
    "\n",
    "    # backward pass & update weights\n",
    "    optimizer.zero_grad() \n",
    "    loss.backward()\n",
    "    th.nn.utils.clip_grad_norm_(policy.parameters(), max_norm=1.)  # important!\n",
    "    optimizer.step()\n",
    "\n",
    "    # save weights/config/losses\n",
    "    if (batch % interval == 0) and (batch != 0):\n",
    "        save_model(env, policy, losses, model_name, quiet=True)\n",
    "        with open(model_name + \"/\" + model_name + '_data.pkl', 'wb') as f:\n",
    "            pickle.dump(data, f)\n",
    "        print_losses(losses_weighted=losses_weighted, model_name=model_name, batch=batch)\n",
    "        data, _ = test(model_name + \"/\" + model_name + \"_cfg.json\", model_name + \"/\" + model_name + \"_weights\")\n",
    "        plot_stuff(data, model_name + \"/\" + model_name, batch=batch)\n",
    "\n",
    "    # Update loss values in the dictionary\n",
    "    losses['overall'].append(loss.item())\n",
    "    losses['position'].append(losses_weighted['position'].item())\n",
    "    losses['muscle'].append(losses_weighted['muscle'].item())\n",
    "    losses['muscle_derivative'].append(losses_weighted['muscle_derivative'].item())\n",
    "    losses['hidden'].append(losses_weighted['hidden'].item())\n",
    "    losses['hidden_derivative'].append(losses_weighted['hidden_derivative'].item())\n",
    "    losses['jerk'].append(losses_weighted['jerk_loss'].item())\n",
    "\n",
    "save_model(env, policy, losses, model_name)\n",
    "with open(model_name + \"/\" + model_name + '_data.pkl', 'wb') as f:\n",
    "    pickle.dump(data, f)\n",
    "print_losses(losses_weighted=losses_weighted, model_name=model_name, batch=batch)\n",
    "data, _ = test(model_name + \"/\" + model_name + \"_cfg.json\", model_name + \"/\" + model_name + \"_weights\")\n",
    "plot_stuff(data, model_name + \"/\" + model_name, batch=batch)"
   ]
  },
  {
   "cell_type": "code",
   "execution_count": null,
   "metadata": {
    "execution": {
     "iopub.execute_input": "2023-11-22T02:16:19.970048Z",
     "iopub.status.busy": "2023-11-22T02:16:19.969885Z",
     "iopub.status.idle": "2023-11-22T02:16:20.076622Z",
     "shell.execute_reply": "2023-11-22T02:16:20.075961Z"
    }
   },
   "outputs": [],
   "source": [
    "save_model(env, policy, losses, model_name)"
   ]
  },
  {
   "cell_type": "code",
   "execution_count": null,
   "metadata": {
    "execution": {
     "iopub.execute_input": "2023-11-22T02:16:20.079612Z",
     "iopub.status.busy": "2023-11-22T02:16:20.079447Z",
     "iopub.status.idle": "2023-11-22T02:16:20.788616Z",
     "shell.execute_reply": "2023-11-22T02:16:20.788325Z"
    }
   },
   "outputs": [],
   "source": [
    "# PLOT LOSS FUNCTION(s)\n",
    "\n",
    "log = json.load(open(model_name + \"_log.json\",'r'))\n",
    "print(log[\"losses\"].keys())\n",
    "w=50\n",
    "for loss in [\"overall\",\"position\",\"muscle\",\"hidden\",\"jerk\"]:\n",
    "    fig,ax = plot_training_log(log=log[\"losses\"],loss_type=loss, w=w)\n",
    "    ax.set_title(f\"{loss} (w={w})\")"
   ]
  },
  {
   "cell_type": "code",
   "execution_count": null,
   "metadata": {
    "execution": {
     "iopub.execute_input": "2023-11-22T02:16:20.790344Z",
     "iopub.status.busy": "2023-11-22T02:16:20.790218Z",
     "iopub.status.idle": "2023-11-22T02:16:22.350433Z",
     "shell.execute_reply": "2023-11-22T02:16:22.350113Z"
    }
   },
   "outputs": [],
   "source": [
    "# TEST NETWORK ON CENTRE-OUT\n",
    "\n",
    "data = test(model_name + \"_cfg.json\", model_name + \"_weights\")\n",
    "fig, ax = plot_simulations(xy=data['xy'], target_xy=data['tg'], figsize=(8,6))\n",
    "fig, ax = plot_activation(data['all_hidden'], data['all_muscle'])\n",
    "fig, ax = plot_kinematics(all_xy=data[\"xy\"], all_tg=data[\"tg\"], all_vel=data[\"vel\"])"
   ]
  },
  {
   "cell_type": "code",
   "execution_count": null,
   "metadata": {},
   "outputs": [],
   "source": []
  }
 ],
 "metadata": {
  "kernelspec": {
   "display_name": "Python 3",
   "language": "python",
   "name": "python3"
  },
  "language_info": {
   "codemirror_mode": {
    "name": "ipython",
    "version": 3
   },
   "file_extension": ".py",
   "mimetype": "text/x-python",
   "name": "python",
   "nbconvert_exporter": "python",
   "pygments_lexer": "ipython3",
   "version": "3.11.6"
  }
 },
 "nbformat": 4,
 "nbformat_minor": 0
}
