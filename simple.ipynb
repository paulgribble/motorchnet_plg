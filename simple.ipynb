{
 "cells": [
  {
   "cell_type": "code",
   "execution_count": null,
   "metadata": {
    "collapsed": false,
    "execution": {
     "iopub.execute_input": "2023-11-22T00:21:47.590227Z",
     "iopub.status.busy": "2023-11-22T00:21:47.589850Z",
     "iopub.status.idle": "2023-11-22T00:21:48.296516Z",
     "shell.execute_reply": "2023-11-22T00:21:48.296247Z"
    },
    "pycharm": {
     "name": "#%%\n"
    }
   },
   "outputs": [],
   "source": [
    "import os\n",
    "import time\n",
    "import sys\n",
    "import json\n",
    "import numpy as np\n",
    "import torch as th\n",
    "import matplotlib.pyplot as plt\n",
    "import motornet as mn\n",
    "from simple_policy import Policy\n",
    "from simple_task import CentreOutFF\n",
    "from simple_utils import *\n",
    "from tqdm import tqdm\n",
    "import pickle\n",
    "\n",
    "print('All packages imported.')\n",
    "print('pytorch version: ' + th.__version__)\n",
    "print('numpy version: ' + np.__version__)\n",
    "print('motornet version: ' + mn.__version__)"
   ]
  },
  {
   "cell_type": "code",
   "execution_count": null,
   "metadata": {
    "execution": {
     "iopub.execute_input": "2023-11-22T00:21:48.313606Z",
     "iopub.status.busy": "2023-11-22T00:21:48.313457Z",
     "iopub.status.idle": "2023-11-22T00:21:48.680533Z",
     "shell.execute_reply": "2023-11-22T00:21:48.680104Z"
    }
   },
   "outputs": [],
   "source": [
    "device = th.device(\"cpu\")\n",
    "\n",
    "effector = mn.effector.RigidTendonArm26(muscle=mn.muscle.RigidTendonHillMuscle())\n",
    "env = CentreOutFF(effector=effector, max_ep_duration=1.)\n",
    "\n",
    "policy = Policy(env.observation_space.shape[0], 128, env.n_muscles, device=device)\n",
    "optimizer = th.optim.Adam(policy.parameters(), lr=10**-3)"
   ]
  },
  {
   "cell_type": "code",
   "execution_count": null,
   "metadata": {},
   "outputs": [],
   "source": [
    "model_name = \"simple\"\n",
    "if (not os.path.exists(model_name)):\n",
    "    os.mkdir(model_name)"
   ]
  },
  {
   "cell_type": "code",
   "execution_count": null,
   "metadata": {
    "collapsed": false,
    "execution": {
     "iopub.execute_input": "2023-11-22T00:21:48.682579Z",
     "iopub.status.busy": "2023-11-22T00:21:48.682353Z",
     "iopub.status.idle": "2023-11-22T02:16:19.966875Z",
     "shell.execute_reply": "2023-11-22T02:16:19.965933Z"
    },
    "pycharm": {
     "name": "#%%\n"
    }
   },
   "outputs": [],
   "source": [
    "batch_size =   256\n",
    "n_batch    = 10000\n",
    "interval   =  1000\n",
    "model_name = \"simple\"\n",
    "\n",
    "losses = {\n",
    "    'overall': [],\n",
    "    'position': [],\n",
    "    'muscle': [],\n",
    "    'muscle_derivative': [],\n",
    "    'hidden': [],\n",
    "    'hidden_derivative': [],\n",
    "    'jerk' : []}\n",
    "\n",
    "for batch in tqdm(range(n_batch),\n",
    "                desc=f\"Training {n_batch} batches of {batch_size}\",\n",
    "                unit=\"batch\"):\n",
    "\n",
    "    data = run_episode(env, policy, batch_size, catch_trial_perc=50, condition='train', ff_coefficient=0.0, detach=False)\n",
    "    loss, losses_weighted = cal_loss(data)\n",
    "\n",
    "    # backward pass & update weights\n",
    "    optimizer.zero_grad() \n",
    "    loss.backward()\n",
    "    th.nn.utils.clip_grad_norm_(policy.parameters(), max_norm=1.)  # important!\n",
    "    optimizer.step()\n",
    "\n",
    "    # save weights/config/losses\n",
    "    if (batch % interval == 0) and (batch != 0):\n",
    "        save_model(env, policy, losses, model_name, quiet=True)\n",
    "        with open(model_name + \"/\" + model_name + '_data.pkl', 'wb') as f:\n",
    "            pickle.dump(data, f)\n",
    "        print_losses(losses_weighted=losses_weighted, model_name=model_name, batch=batch)\n",
    "        data, _ = test(model_name + \"/\" + model_name + \"_cfg.json\", model_name + \"/\" + model_name + \"_weights\")\n",
    "        plot_stuff(data, model_name + \"/\" + model_name, batch=batch)\n",
    "\n",
    "    # Update loss values in the dictionary\n",
    "    losses['overall'].append(loss.item())\n",
    "    losses['position'].append(losses_weighted['position'].item())\n",
    "    losses['muscle'].append(losses_weighted['muscle'].item())\n",
    "    losses['muscle_derivative'].append(losses_weighted['muscle_derivative'].item())\n",
    "    losses['hidden'].append(losses_weighted['hidden'].item())\n",
    "    losses['hidden_derivative'].append(losses_weighted['hidden_derivative'].item())\n",
    "    losses['jerk'].append(losses_weighted['jerk_loss'].item())\n",
    "\n",
    "save_model(env, policy, losses, model_name)\n",
    "with open(model_name + \"/\" + model_name + '_data.pkl', 'wb') as f:\n",
    "    pickle.dump(data, f)\n",
    "print_losses(losses_weighted=losses_weighted, model_name=model_name, batch=batch)\n",
    "data, _ = test(model_name + \"/\" + model_name + \"_cfg.json\", model_name + \"/\" + model_name + \"_weights\")\n",
    "plot_stuff(data, model_name + \"/\" + model_name, batch=batch)"
   ]
  },
  {
   "cell_type": "code",
   "execution_count": null,
   "metadata": {
    "execution": {
     "iopub.execute_input": "2023-11-22T02:16:19.970048Z",
     "iopub.status.busy": "2023-11-22T02:16:19.969885Z",
     "iopub.status.idle": "2023-11-22T02:16:20.076622Z",
     "shell.execute_reply": "2023-11-22T02:16:20.075961Z"
    }
   },
   "outputs": [],
   "source": [
    "save_model(env, policy, losses, model_name)"
   ]
  },
  {
   "cell_type": "code",
   "execution_count": null,
   "metadata": {
    "execution": {
     "iopub.execute_input": "2023-11-22T02:16:20.079612Z",
     "iopub.status.busy": "2023-11-22T02:16:20.079447Z",
     "iopub.status.idle": "2023-11-22T02:16:20.788616Z",
     "shell.execute_reply": "2023-11-22T02:16:20.788325Z"
    }
   },
   "outputs": [],
   "source": [
    "# PLOT LOSS FUNCTION(s)\n",
    "\n",
    "log = json.load(open(model_name + \"_log.json\",'r'))\n",
    "print(log[\"losses\"].keys())\n",
    "w=50\n",
    "for loss in [\"overall\",\"position\",\"muscle\",\"hidden\",\"jerk\"]:\n",
    "    fig,ax = plot_training_log(log=log[\"losses\"],loss_type=loss, w=w)\n",
    "    ax.set_title(f\"{loss} (w={w})\")"
   ]
  },
  {
   "cell_type": "code",
   "execution_count": null,
   "metadata": {
    "execution": {
     "iopub.execute_input": "2023-11-22T02:16:20.790344Z",
     "iopub.status.busy": "2023-11-22T02:16:20.790218Z",
     "iopub.status.idle": "2023-11-22T02:16:22.350433Z",
     "shell.execute_reply": "2023-11-22T02:16:22.350113Z"
    }
   },
   "outputs": [],
   "source": [
    "# TEST NETWORK ON CENTRE-OUT\n",
    "\n",
    "data = test(model_name + \"_cfg.json\", model_name + \"_weights\")\n",
    "fig, ax = plot_simulations(xy=data['xy'], target_xy=data['tg'], figsize=(8,6))\n",
    "fig, ax = plot_activation(data['all_hidden'], data['all_muscle'])\n",
    "fig, ax = plot_kinematics(all_xy=data[\"xy\"], all_tg=data[\"tg\"], all_vel=data[\"vel\"])"
   ]
  },
  {
   "cell_type": "code",
   "execution_count": null,
   "metadata": {},
   "outputs": [],
   "source": []
  }
 ],
 "metadata": {
  "kernelspec": {
   "display_name": "Python 3",
   "language": "python",
   "name": "python3"
  },
  "language_info": {
   "codemirror_mode": {
    "name": "ipython",
    "version": 3
   },
   "file_extension": ".py",
   "mimetype": "text/x-python",
   "name": "python",
   "nbconvert_exporter": "python",
   "pygments_lexer": "ipython3",
   "version": "3.10.13"
  }
 },
 "nbformat": 4,
 "nbformat_minor": 0
}
