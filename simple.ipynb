{
 "cells": [
  {
   "cell_type": "code",
   "execution_count": null,
   "metadata": {
    "collapsed": false,
    "execution": {
     "iopub.execute_input": "2023-11-20T02:40:28.292658Z",
     "iopub.status.busy": "2023-11-20T02:40:28.292241Z",
     "iopub.status.idle": "2023-11-20T02:40:29.402335Z",
     "shell.execute_reply": "2023-11-20T02:40:29.402057Z"
    },
    "pycharm": {
     "name": "#%%\n"
    }
   },
   "outputs": [],
   "source": [
    "import os\n",
    "import time\n",
    "import sys\n",
    "import json\n",
    "import numpy as np\n",
    "import torch as th\n",
    "import matplotlib.pyplot as plt\n",
    "import motornet as mn\n",
    "from simple_policy import Policy\n",
    "from simple_task import CentreOutFFMinJerk\n",
    "from simple_utils import *\n",
    "from tqdm import tqdm\n",
    "import pickle\n",
    "\n",
    "print('All packages imported.')\n",
    "print('pytorch version: ' + th.__version__)\n",
    "print('numpy version: ' + np.__version__)\n",
    "print('motornet version: ' + mn.__version__)"
   ]
  },
  {
   "cell_type": "code",
   "execution_count": null,
   "metadata": {
    "execution": {
     "iopub.execute_input": "2023-11-20T02:40:29.417753Z",
     "iopub.status.busy": "2023-11-20T02:40:29.417631Z",
     "iopub.status.idle": "2023-11-20T02:40:29.883159Z",
     "shell.execute_reply": "2023-11-20T02:40:29.882860Z"
    }
   },
   "outputs": [],
   "source": [
    "device = th.device(\"cpu\")\n",
    "\n",
    "effector = mn.effector.RigidTendonArm26(muscle=mn.muscle.RigidTendonHillMuscle())\n",
    "env = CentreOutFFMinJerk(effector=effector, max_ep_duration=1.)\n",
    "\n",
    "policy = Policy(env.observation_space.shape[0], 128, env.n_muscles, device=device)\n",
    "optimizer = th.optim.Adam(policy.parameters(), lr=10**-3)"
   ]
  },
  {
   "cell_type": "code",
   "execution_count": null,
   "metadata": {
    "collapsed": false,
    "execution": {
     "iopub.execute_input": "2023-11-20T02:40:29.884882Z",
     "iopub.status.busy": "2023-11-20T02:40:29.884786Z",
     "iopub.status.idle": "2023-11-20T07:43:39.593264Z",
     "shell.execute_reply": "2023-11-20T07:43:39.592027Z"
    },
    "pycharm": {
     "name": "#%%\n"
    }
   },
   "outputs": [],
   "source": [
    "batch_size =   256\n",
    "n_batch    = 15000\n",
    "interval   =  1000\n",
    "model_name = \"simple\"\n",
    "\n",
    "losses = {\n",
    "    'overall': [],\n",
    "    'position': [],\n",
    "    'angle': [],\n",
    "    'lateral': [],\n",
    "    'muscle': [],\n",
    "    'hidden': []}\n",
    "\n",
    "for batch in tqdm(range(n_batch),\n",
    "                  desc=f\"Training {n_batch} batches of {batch_size}\",\n",
    "                  unit=\"batch\"):\n",
    "\n",
    "    data = run_episode(env, policy, batch_size, catch_trial_perc=50, condition='train', ff_coefficient=0.0, detach=False)\n",
    "    loss, position_loss, muscle_loss, hidden_loss, angle_loss, lateral_loss = cal_loss(data, env.muscle.max_iso_force, env.dt, policy, test=False)\n",
    "\n",
    "    # backward pass & update weights\n",
    "    optimizer.zero_grad() \n",
    "    loss.backward()\n",
    "    th.nn.utils.clip_grad_norm_(policy.parameters(), max_norm=1.)  # important!\n",
    "    optimizer.step()\n",
    "\n",
    "    # save weights/config/losses\n",
    "    if (batch % interval == 0) and (batch != 0):\n",
    "        save_model(env, policy, losses, model_name, quiet=True)\n",
    "        with open('simple_data.pkl', 'wb') as f:\n",
    "            pickle.dump(data, f)\n",
    "\n",
    "# with open('simple_data.pkl', 'rb') as f:\n",
    "#     data = pickle.load(f)\n",
    "    \n",
    "        # TEST\n",
    "    # Run episode\n",
    "#    data = run_episode(env,policy,8,0,'test',ff_coefficient=0.0,detach=True)\n",
    "\n",
    "    # calculate losses\n",
    " #   _, position_loss, _, _, angle_loss, lateral_loss = cal_loss(data, env.muscle.max_iso_force, env.dt, policy, test=True)\n",
    "\n",
    "    # Update loss values in the dictionary\n",
    "    losses['overall'].append(loss.item())\n",
    "    losses['position'].append(position_loss.item())\n",
    "    losses['angle'].append(angle_loss.item())\n",
    "    losses['lateral'].append(lateral_loss.item())\n",
    "    losses['muscle'].append(muscle_loss.item())\n",
    "    losses['hidden'].append(hidden_loss.item())\n",
    "\n"
   ]
  },
  {
   "cell_type": "code",
   "execution_count": null,
   "metadata": {
    "execution": {
     "iopub.execute_input": "2023-11-20T07:43:39.597060Z",
     "iopub.status.busy": "2023-11-20T07:43:39.596880Z",
     "iopub.status.idle": "2023-11-20T07:43:39.800081Z",
     "shell.execute_reply": "2023-11-20T07:43:39.799819Z"
    }
   },
   "outputs": [],
   "source": [
    "save_model(env, policy, losses, model_name)"
   ]
  },
  {
   "cell_type": "code",
   "execution_count": null,
   "metadata": {
    "execution": {
     "iopub.execute_input": "2023-11-20T07:43:39.801425Z",
     "iopub.status.busy": "2023-11-20T07:43:39.801344Z",
     "iopub.status.idle": "2023-11-20T07:43:40.136105Z",
     "shell.execute_reply": "2023-11-20T07:43:40.135815Z"
    }
   },
   "outputs": [],
   "source": [
    "log = json.load(open(model_name + \"_log.json\",'r'))\n",
    "fig,ax = plot_training_log(log=log[\"losses\"],loss_type='position', w=1)"
   ]
  },
  {
   "cell_type": "code",
   "execution_count": null,
   "metadata": {
    "execution": {
     "iopub.execute_input": "2023-11-20T07:43:40.137567Z",
     "iopub.status.busy": "2023-11-20T07:43:40.137467Z",
     "iopub.status.idle": "2023-11-20T07:43:41.122358Z",
     "shell.execute_reply": "2023-11-20T07:43:41.122034Z"
    }
   },
   "outputs": [],
   "source": [
    "# TEST NETWORK ON CENTRE-OUT\n",
    "\n",
    "data = test(model_name + \"_cfg.json\", model_name + \"_weights\")\n",
    "\n",
    "fig, ax = plot_simulations(xy=data['xy'], target_xy=data['tg'], figsize=(8,6))\n",
    "fig, ax = plot_activation(data['all_hidden'], data['all_muscle'])"
   ]
  },
  {
   "cell_type": "code",
   "execution_count": null,
   "metadata": {
    "execution": {
     "iopub.execute_input": "2023-11-20T07:43:41.124272Z",
     "iopub.status.busy": "2023-11-20T07:43:41.124189Z",
     "iopub.status.idle": "2023-11-20T07:43:41.650093Z",
     "shell.execute_reply": "2023-11-20T07:43:41.649823Z"
    }
   },
   "outputs": [],
   "source": [
    "fig, ax = plot_kinematics(all_xy=data[\"xy\"], all_tg=data[\"tg\"], all_vel=data[\"vel\"])"
   ]
  },
  {
   "cell_type": "code",
   "execution_count": null,
   "metadata": {},
   "outputs": [],
   "source": []
  }
 ],
 "metadata": {
  "kernelspec": {
   "display_name": "Python 3",
   "language": "python",
   "name": "python3"
  },
  "language_info": {
   "codemirror_mode": {
    "name": "ipython",
    "version": 3
   },
   "file_extension": ".py",
   "mimetype": "text/x-python",
   "name": "python",
   "nbconvert_exporter": "python",
   "pygments_lexer": "ipython3",
   "version": "3.10.13"
  }
 },
 "nbformat": 4,
 "nbformat_minor": 0
}
