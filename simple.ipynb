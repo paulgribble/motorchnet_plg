{
 "cells": [
  {
   "cell_type": "code",
   "execution_count": null,
   "metadata": {
    "collapsed": false,
    "execution": {
     "iopub.execute_input": "2023-11-19T02:51:43.052218Z",
     "iopub.status.busy": "2023-11-19T02:51:43.051814Z",
     "iopub.status.idle": "2023-11-19T02:51:43.692144Z",
     "shell.execute_reply": "2023-11-19T02:51:43.691842Z"
    },
    "pycharm": {
     "name": "#%%\n"
    }
   },
   "outputs": [],
   "source": [
    "import os\n",
    "import time\n",
    "import sys\n",
    "import json\n",
    "import numpy as np\n",
    "import torch as th\n",
    "import matplotlib.pyplot as plt\n",
    "import motornet as mn\n",
    "from simple_policy import Policy\n",
    "from simple_task import CentreOutFFMinJerk\n",
    "from simple_utils import *\n",
    "from tqdm import tqdm\n",
    "import pickle\n",
    "\n",
    "print('All packages imported.')\n",
    "print('pytorch version: ' + th.__version__)\n",
    "print('numpy version: ' + np.__version__)\n",
    "print('motornet version: ' + mn.__version__)"
   ]
  },
  {
   "cell_type": "code",
   "execution_count": null,
   "metadata": {
    "execution": {
     "iopub.execute_input": "2023-11-19T02:51:43.707445Z",
     "iopub.status.busy": "2023-11-19T02:51:43.707327Z",
     "iopub.status.idle": "2023-11-19T02:51:44.021901Z",
     "shell.execute_reply": "2023-11-19T02:51:44.021605Z"
    }
   },
   "outputs": [],
   "source": [
    "device = th.device(\"cpu\")\n",
    "\n",
    "effector = mn.effector.RigidTendonArm26(muscle=mn.muscle.RigidTendonHillMuscle())\n",
    "env = CentreOutFFMinJerk(effector=effector, max_ep_duration=1.)\n",
    "\n",
    "policy = Policy(env.observation_space.shape[0], 128, env.n_muscles, device=device)\n",
    "optimizer = th.optim.Adam(policy.parameters(), lr=10**-3)"
   ]
  },
  {
   "cell_type": "code",
   "execution_count": null,
   "metadata": {
    "collapsed": false,
    "execution": {
     "iopub.execute_input": "2023-11-19T02:51:44.023664Z",
     "iopub.status.busy": "2023-11-19T02:51:44.023546Z",
     "iopub.status.idle": "2023-11-19T08:55:19.278047Z",
     "shell.execute_reply": "2023-11-19T08:55:19.276952Z"
    },
    "pycharm": {
     "name": "#%%\n"
    }
   },
   "outputs": [],
   "source": [
    "batch_size =   128\n",
    "n_batch    = 50000\n",
    "interval   =  1000\n",
    "model_name = \"simple\"\n",
    "\n",
    "losses = {\n",
    "    'overall': [],\n",
    "    'position': [],\n",
    "    'angle': [],\n",
    "    'lateral': [],\n",
    "    'muscle': [],\n",
    "    'hidden': []}\n",
    "\n",
    "for batch in tqdm(range(n_batch),\n",
    "                  desc=f\"Training {n_batch} batches of {batch_size}\",\n",
    "                  unit=\"batch\"):\n",
    "\n",
    "    data = run_episode(env, policy, batch_size, catch_trial_perc=50, condition='train', ff_coefficient=0.0, detach=False)\n",
    "    loss, position_loss, muscle_loss, hidden_loss, angle_loss, lateral_loss = cal_loss(data, env.muscle.max_iso_force, env.dt, policy, test=False)\n",
    "\n",
    "    # backward pass & update weights\n",
    "    optimizer.zero_grad() \n",
    "    loss.backward()\n",
    "    th.nn.utils.clip_grad_norm_(policy.parameters(), max_norm=1.)  # important!\n",
    "    optimizer.step()\n",
    "\n",
    "    # save weights/config/losses\n",
    "    if (batch % interval == 0) and (batch != 0):\n",
    "        save_model(env, policy, losses, model_name, quiet=True)\n",
    "        with open('simple_data.pkl', 'wb') as f:\n",
    "            pickle.dump(data, f)\n",
    "\n",
    "# with open('simple_data.pkl', 'rb') as f:\n",
    "#     data = pickle.load(f)\n",
    "    \n",
    "        # TEST\n",
    "    # Run episode\n",
    "#    data = run_episode(env,policy,8,0,'test',ff_coefficient=0.0,detach=True)\n",
    "\n",
    "    # calculate losses\n",
    " #   _, position_loss, _, _, angle_loss, lateral_loss = cal_loss(data, env.muscle.max_iso_force, env.dt, policy, test=True)\n",
    "\n",
    "    # Update loss values in the dictionary\n",
    "    losses['overall'].append(loss.item())\n",
    "    losses['position'].append(position_loss.item())\n",
    "    losses['angle'].append(angle_loss.item())\n",
    "    losses['lateral'].append(lateral_loss.item())\n",
    "    losses['muscle'].append(muscle_loss.item())\n",
    "    losses['hidden'].append(hidden_loss.item())\n",
    "\n"
   ]
  },
  {
   "cell_type": "code",
   "execution_count": null,
   "metadata": {
    "execution": {
     "iopub.execute_input": "2023-11-19T08:55:19.281715Z",
     "iopub.status.busy": "2023-11-19T08:55:19.281463Z",
     "iopub.status.idle": "2023-11-19T08:55:19.481654Z",
     "shell.execute_reply": "2023-11-19T08:55:19.481406Z"
    }
   },
   "outputs": [],
   "source": [
    "save_model(env, policy, losses, model_name)"
   ]
  },
  {
   "cell_type": "code",
   "execution_count": null,
   "metadata": {
    "execution": {
     "iopub.execute_input": "2023-11-19T08:55:19.482939Z",
     "iopub.status.busy": "2023-11-19T08:55:19.482862Z",
     "iopub.status.idle": "2023-11-19T08:55:19.766850Z",
     "shell.execute_reply": "2023-11-19T08:55:19.764438Z"
    }
   },
   "outputs": [],
   "source": [
    "log = json.load(open(model_name + \"_log.json\",'r'))\n",
    "fig,ax = plot_training_log(log=log[\"losses\"],loss_type='position', w=1)"
   ]
  },
  {
   "cell_type": "code",
   "execution_count": null,
   "metadata": {
    "execution": {
     "iopub.execute_input": "2023-11-19T08:55:19.770345Z",
     "iopub.status.busy": "2023-11-19T08:55:19.770071Z",
     "iopub.status.idle": "2023-11-19T08:55:20.825270Z",
     "shell.execute_reply": "2023-11-19T08:55:20.824952Z"
    }
   },
   "outputs": [],
   "source": [
    "# TEST NETWORK ON CENTRE-OUT\n",
    "\n",
    "data = test(model_name + \"_cfg.json\", model_name + \"_weights\")\n",
    "\n",
    "fig, ax = plot_simulations(xy=data['xy'], target_xy=data['tg'], figsize=(8,6))\n",
    "fig, ax = plot_activation(data['all_hidden'], data['all_muscle'])"
   ]
  },
  {
   "cell_type": "code",
   "execution_count": null,
   "metadata": {
    "execution": {
     "iopub.execute_input": "2023-11-19T08:55:20.827227Z",
     "iopub.status.busy": "2023-11-19T08:55:20.827143Z",
     "iopub.status.idle": "2023-11-19T08:55:21.307006Z",
     "shell.execute_reply": "2023-11-19T08:55:21.306740Z"
    }
   },
   "outputs": [],
   "source": [
    "fig, ax = plot_kinematics(all_xy=data[\"xy\"], all_tg=data[\"tg\"], all_vel=data[\"vel\"])"
   ]
  },
  {
   "cell_type": "code",
   "execution_count": null,
   "metadata": {},
   "outputs": [],
   "source": []
  }
 ],
 "metadata": {
  "kernelspec": {
   "display_name": "Python 3",
   "language": "python",
   "name": "python3"
  },
  "language_info": {
   "codemirror_mode": {
    "name": "ipython",
    "version": 3
   },
   "file_extension": ".py",
   "mimetype": "text/x-python",
   "name": "python",
   "nbconvert_exporter": "python",
   "pygments_lexer": "ipython3",
   "version": "3.10.13"
  }
 },
 "nbformat": 4,
 "nbformat_minor": 0
}
