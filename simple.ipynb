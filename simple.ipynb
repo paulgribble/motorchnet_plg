{
 "cells": [
  {
   "cell_type": "code",
   "execution_count": null,
   "metadata": {
    "collapsed": false,
    "execution": {
     "iopub.execute_input": "2023-11-17T23:43:47.866164Z",
     "iopub.status.busy": "2023-11-17T23:43:47.865635Z",
     "iopub.status.idle": "2023-11-17T23:43:48.578967Z",
     "shell.execute_reply": "2023-11-17T23:43:48.578663Z"
    },
    "pycharm": {
     "name": "#%%\n"
    }
   },
   "outputs": [],
   "source": [
    "import os\n",
    "import time\n",
    "import sys\n",
    "import json\n",
    "import numpy as np\n",
    "import torch as th\n",
    "import matplotlib.pyplot as plt\n",
    "import motornet as mn\n",
    "from policy import Policy\n",
    "from task import CentreOutFFMinJerk\n",
    "from simple_utils import *\n",
    "from tqdm import tqdm\n",
    "\n",
    "print('All packages imported.')\n",
    "print('pytorch version: ' + th.__version__)\n",
    "print('numpy version: ' + np.__version__)\n",
    "print('motornet version: ' + mn.__version__)"
   ]
  },
  {
   "cell_type": "code",
   "execution_count": null,
   "metadata": {
    "execution": {
     "iopub.execute_input": "2023-11-17T23:43:48.596084Z",
     "iopub.status.busy": "2023-11-17T23:43:48.595932Z",
     "iopub.status.idle": "2023-11-17T23:43:48.600243Z",
     "shell.execute_reply": "2023-11-17T23:43:48.599958Z"
    }
   },
   "outputs": [],
   "source": [
    "device = th.device(\"cpu\")\n",
    "\n",
    "effector = mn.effector.RigidTendonArm26(muscle=mn.muscle.RigidTendonHillMuscle())\n",
    "env = CentreOutFFMinJerk(effector=effector, max_ep_duration=1.)\n",
    "\n",
    "policy = Policy(env.observation_space.shape[0], 128, env.n_muscles, device=device)\n",
    "optimizer = th.optim.Adam(policy.parameters(), lr=10**-3)"
   ]
  },
  {
   "cell_type": "code",
   "execution_count": null,
   "metadata": {
    "collapsed": false,
    "execution": {
     "iopub.execute_input": "2023-11-17T23:43:48.969162Z",
     "iopub.status.busy": "2023-11-17T23:43:48.969046Z",
     "iopub.status.idle": "2023-11-18T00:28:56.104381Z",
     "shell.execute_reply": "2023-11-18T00:28:56.103295Z"
    },
    "pycharm": {
     "name": "#%%\n"
    }
   },
   "outputs": [],
   "source": [
    "batch_size = 64\n",
    "n_batch    = 10000\n",
    "\n",
    "losses = []\n",
    "\n",
    "for batch in tqdm(range(n_batch),\n",
    "                  desc=f\"Training {n_batch} batches of {batch_size}\",\n",
    "                  unit=\"batch\"):\n",
    "\n",
    "    data = run_episode(env, policy, batch_size, catch_trial_perc=50, condition='train', ff_coefficient=0.0, detach=False)\n",
    "    loss, _, muscle_loss, hidden_loss, _, _ = cal_loss(data, env.muscle.max_iso_force, env.dt, policy, test=False)\n",
    "\n",
    "    # backward pass & update weights\n",
    "    optimizer.zero_grad() \n",
    "    loss.backward()\n",
    "    th.nn.utils.clip_grad_norm_(policy.parameters(), max_norm=1.)  # important!\n",
    "    optimizer.step()\n"
   ]
  },
  {
   "cell_type": "code",
   "execution_count": null,
   "metadata": {
    "execution": {
     "iopub.execute_input": "2023-11-18T00:28:56.107768Z",
     "iopub.status.busy": "2023-11-18T00:28:56.107462Z",
     "iopub.status.idle": "2023-11-18T00:28:56.122587Z",
     "shell.execute_reply": "2023-11-18T00:28:56.122014Z"
    }
   },
   "outputs": [],
   "source": [
    "weight_file = 'simple_weights'\n",
    "log_file    = 'simple_log.json'\n",
    "cfg_file    = 'simple_cfg.json'\n",
    "\n",
    "# save model weights\n",
    "th.save(policy.state_dict(), weight_file)\n",
    "\n",
    "# save training history (log)\n",
    "with open(log_file, 'w') as file:\n",
    "    json.dump({'losses':losses}, file)\n",
    "\n",
    "# save environment configuration dictionary\n",
    "cfg = env.get_save_config()\n",
    "with open(cfg_file, 'w') as file:\n",
    "    json.dump(cfg, file)\n"
   ]
  },
  {
   "cell_type": "code",
   "execution_count": null,
   "metadata": {
    "execution": {
     "iopub.execute_input": "2023-11-18T00:28:56.125718Z",
     "iopub.status.busy": "2023-11-18T00:28:56.125557Z",
     "iopub.status.idle": "2023-11-18T00:28:56.364955Z",
     "shell.execute_reply": "2023-11-18T00:28:56.362968Z"
    }
   },
   "outputs": [],
   "source": [
    "plot_training_log(losses)"
   ]
  },
  {
   "cell_type": "code",
   "execution_count": null,
   "metadata": {
    "execution": {
     "iopub.execute_input": "2023-11-18T00:28:56.370590Z",
     "iopub.status.busy": "2023-11-18T00:28:56.369811Z",
     "iopub.status.idle": "2023-11-18T00:28:56.397554Z",
     "shell.execute_reply": "2023-11-18T00:28:56.395077Z"
    }
   },
   "outputs": [],
   "source": [
    "cfg_file = \"simple_cfg.json\"\n",
    "weight_file = \"simple_weights\""
   ]
  },
  {
   "cell_type": "code",
   "execution_count": null,
   "metadata": {
    "execution": {
     "iopub.execute_input": "2023-11-18T00:28:56.404307Z",
     "iopub.status.busy": "2023-11-18T00:28:56.403774Z",
     "iopub.status.idle": "2023-11-18T00:28:57.561963Z",
     "shell.execute_reply": "2023-11-18T00:28:57.561648Z"
    }
   },
   "outputs": [],
   "source": [
    "# TEST NETWORK ON CENTRE-OUT\n",
    "\n",
    "data = test(cfg_file, weight_file)\n",
    "\n",
    "fig, ax  = plot_simulations(xy=data['xy'],target_xy=data['tg'], figsize=(8,6))\n",
    "\n",
    "fig, ax = plot_activation(data['all_hidden'], data['all_muscle'])\n"
   ]
  }
 ],
 "metadata": {
  "kernelspec": {
   "display_name": "Python 3",
   "language": "python",
   "name": "python3"
  },
  "language_info": {
   "codemirror_mode": {
    "name": "ipython",
    "version": 3
   },
   "file_extension": ".py",
   "mimetype": "text/x-python",
   "name": "python",
   "nbconvert_exporter": "python",
   "pygments_lexer": "ipython3",
   "version": "3.10.13"
  }
 },
 "nbformat": 4,
 "nbformat_minor": 0
}
