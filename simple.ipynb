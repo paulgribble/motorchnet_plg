{
 "cells": [
  {
   "cell_type": "code",
   "execution_count": null,
   "metadata": {
    "collapsed": false,
    "execution": {
     "iopub.execute_input": "2023-11-18T01:18:45.873655Z",
     "iopub.status.busy": "2023-11-18T01:18:45.873291Z",
     "iopub.status.idle": "2023-11-18T01:18:46.590656Z",
     "shell.execute_reply": "2023-11-18T01:18:46.590352Z"
    },
    "pycharm": {
     "name": "#%%\n"
    }
   },
   "outputs": [],
   "source": [
    "import os\n",
    "import time\n",
    "import sys\n",
    "import json\n",
    "import numpy as np\n",
    "import torch as th\n",
    "import matplotlib.pyplot as plt\n",
    "import motornet as mn\n",
    "from simple_policy import Policy\n",
    "from simple_task import CentreOutFFMinJerk\n",
    "from simple_utils import *\n",
    "from tqdm import tqdm\n",
    "\n",
    "print('All packages imported.')\n",
    "print('pytorch version: ' + th.__version__)\n",
    "print('numpy version: ' + np.__version__)\n",
    "print('motornet version: ' + mn.__version__)"
   ]
  },
  {
   "cell_type": "code",
   "execution_count": null,
   "metadata": {
    "execution": {
     "iopub.execute_input": "2023-11-18T01:18:46.608165Z",
     "iopub.status.busy": "2023-11-18T01:18:46.607997Z",
     "iopub.status.idle": "2023-11-18T01:18:46.959051Z",
     "shell.execute_reply": "2023-11-18T01:18:46.958593Z"
    }
   },
   "outputs": [],
   "source": [
    "device = th.device(\"cpu\")\n",
    "\n",
    "effector = mn.effector.RigidTendonArm26(muscle=mn.muscle.RigidTendonHillMuscle())\n",
    "env = CentreOutFFMinJerk(effector=effector, max_ep_duration=1.)\n",
    "\n",
    "policy = Policy(env.observation_space.shape[0], 128, env.n_muscles, device=device)\n",
    "optimizer = th.optim.Adam(policy.parameters(), lr=10**-3)"
   ]
  },
  {
   "cell_type": "code",
   "execution_count": null,
   "metadata": {
    "collapsed": false,
    "execution": {
     "iopub.execute_input": "2023-11-18T01:18:46.960962Z",
     "iopub.status.busy": "2023-11-18T01:18:46.960826Z",
     "iopub.status.idle": "2023-11-18T02:19:26.058393Z",
     "shell.execute_reply": "2023-11-18T02:19:26.057517Z"
    },
    "pycharm": {
     "name": "#%%\n"
    }
   },
   "outputs": [],
   "source": [
    "batch_size =  512\n",
    "n_batch    =  30000\n",
    "\n",
    "losses = {\n",
    "    'overall': [],\n",
    "    'position': [],\n",
    "    'angle': [],\n",
    "    'lateral': [],\n",
    "    'muscle': [],\n",
    "    'hidden': []}\n",
    "\n",
    "for batch in tqdm(range(n_batch),\n",
    "                  desc=f\"Training {n_batch} batches of {batch_size}\",\n",
    "                  unit=\"batch\"):\n",
    "\n",
    "    data = run_episode(env, policy, batch_size, catch_trial_perc=50, condition='train', ff_coefficient=0.0, detach=False)\n",
    "    loss, _, muscle_loss, hidden_loss, _, _ = cal_loss(data, env.muscle.max_iso_force, env.dt, policy, test=False)\n",
    "\n",
    "    # backward pass & update weights\n",
    "    optimizer.zero_grad() \n",
    "    loss.backward()\n",
    "    th.nn.utils.clip_grad_norm_(policy.parameters(), max_norm=1.)  # important!\n",
    "    optimizer.step()\n",
    "\n",
    "    # TEST\n",
    "    # Run episode\n",
    "    data = run_episode(env,policy,8,0,'test',ff_coefficient=0.0,detach=True)\n",
    "\n",
    "    # calculate losses\n",
    "    _, position_loss, _, _, angle_loss, lateral_loss = cal_loss(data, env.muscle.max_iso_force, env.dt, policy, test=True)\n",
    "\n",
    "    # Update loss values in the dictionary\n",
    "    losses['overall'].append(loss.item())\n",
    "    losses['position'].append(position_loss.item())\n",
    "    losses['angle'].append(angle_loss.item())\n",
    "    losses['lateral'].append(lateral_loss.item())\n",
    "    losses['muscle'].append(muscle_loss.item())\n",
    "    losses['hidden'].append(hidden_loss.item())\n",
    "\n"
   ]
  },
  {
   "cell_type": "code",
   "execution_count": null,
   "metadata": {
    "execution": {
     "iopub.execute_input": "2023-11-18T02:19:26.061457Z",
     "iopub.status.busy": "2023-11-18T02:19:26.061259Z",
     "iopub.status.idle": "2023-11-18T02:19:26.067235Z",
     "shell.execute_reply": "2023-11-18T02:19:26.066737Z"
    }
   },
   "outputs": [],
   "source": [
    "weight_file = 'simple_weights'\n",
    "log_file    = 'simple_log.json'\n",
    "cfg_file    = 'simple_cfg.json'\n",
    "\n",
    "# save model weights\n",
    "th.save(policy.state_dict(), weight_file)\n",
    "\n",
    "# save training history (log)\n",
    "with open(log_file, 'w') as file:\n",
    "    json.dump({'losses':losses}, file)\n",
    "\n",
    "# save environment configuration dictionary\n",
    "cfg = env.get_save_config()\n",
    "with open(cfg_file, 'w') as file:\n",
    "    json.dump(cfg, file)"
   ]
  },
  {
   "cell_type": "code",
   "execution_count": null,
   "metadata": {
    "execution": {
     "iopub.execute_input": "2023-11-18T02:19:26.069939Z",
     "iopub.status.busy": "2023-11-18T02:19:26.069753Z",
     "iopub.status.idle": "2023-11-18T02:19:26.302487Z",
     "shell.execute_reply": "2023-11-18T02:19:26.301234Z"
    }
   },
   "outputs": [],
   "source": [
    "log = json.load(open(log_file,'r'))\n",
    "fig,ax = plot_training_log(log=log[\"losses\"],loss_type='position', w=1)"
   ]
  },
  {
   "cell_type": "code",
   "execution_count": null,
   "metadata": {
    "execution": {
     "iopub.execute_input": "2023-11-18T02:19:26.319571Z",
     "iopub.status.busy": "2023-11-18T02:19:26.318913Z",
     "iopub.status.idle": "2023-11-18T02:19:27.458805Z",
     "shell.execute_reply": "2023-11-18T02:19:27.458515Z"
    }
   },
   "outputs": [],
   "source": [
    "# TEST NETWORK ON CENTRE-OUT\n",
    "\n",
    "data = test(cfg_file, weight_file)\n",
    "\n",
    "fig, ax = plot_simulations(xy=data['xy'], target_xy=data['tg'], figsize=(8,6))\n",
    "fig, ax = plot_activation(data['all_hidden'], data['all_muscle'])"
   ]
  },
  {
   "cell_type": "code",
   "execution_count": null,
   "metadata": {},
   "outputs": [],
   "source": [
    "fig, ax = plot_kinematics(all_xy=data[\"xy\"], all_tg=data[\"tg\"], all_vel=data[\"vel\"])"
   ]
  },
  {
   "cell_type": "code",
   "execution_count": null,
   "metadata": {},
   "outputs": [],
   "source": []
  }
 ],
 "metadata": {
  "kernelspec": {
   "display_name": "Python 3",
   "language": "python",
   "name": "python3"
  },
  "language_info": {
   "codemirror_mode": {
    "name": "ipython",
    "version": 3
   },
   "file_extension": ".py",
   "mimetype": "text/x-python",
   "name": "python",
   "nbconvert_exporter": "python",
   "pygments_lexer": "ipython3",
   "version": "3.10.13"
  }
 },
 "nbformat": 4,
 "nbformat_minor": 0
}
